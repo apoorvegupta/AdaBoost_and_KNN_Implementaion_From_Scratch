{
 "cells": [
  {
   "cell_type": "markdown",
   "metadata": {},
   "source": [
    "# DATA PREPROCESSING AND CLEANING"
   ]
  },
  {
   "cell_type": "code",
   "execution_count": 1,
   "metadata": {},
   "outputs": [],
   "source": [
    "import pandas as pd\n",
    "import numpy as np"
   ]
  },
  {
   "cell_type": "code",
   "execution_count": 2,
   "metadata": {},
   "outputs": [
    {
     "data": {
      "text/html": [
       "<div>\n",
       "<style scoped>\n",
       "    .dataframe tbody tr th:only-of-type {\n",
       "        vertical-align: middle;\n",
       "    }\n",
       "\n",
       "    .dataframe tbody tr th {\n",
       "        vertical-align: top;\n",
       "    }\n",
       "\n",
       "    .dataframe thead th {\n",
       "        text-align: right;\n",
       "    }\n",
       "</style>\n",
       "<table border=\"1\" class=\"dataframe\">\n",
       "  <thead>\n",
       "    <tr style=\"text-align: right;\">\n",
       "      <th></th>\n",
       "      <th></th>\n",
       "      <th>age</th>\n",
       "      <th>weight1</th>\n",
       "      <th>history</th>\n",
       "      <th>HB</th>\n",
       "      <th>IFA</th>\n",
       "      <th>BP1</th>\n",
       "      <th>education</th>\n",
       "      <th>res</th>\n",
       "      <th>reslt</th>\n",
       "    </tr>\n",
       "  </thead>\n",
       "  <tbody>\n",
       "    <tr>\n",
       "      <th>0</th>\n",
       "      <td>1</td>\n",
       "      <td>26.0</td>\n",
       "      <td>37.0</td>\n",
       "      <td>1.0</td>\n",
       "      <td>5.9</td>\n",
       "      <td>1</td>\n",
       "      <td>1.444444</td>\n",
       "      <td>5.0</td>\n",
       "      <td>1.0</td>\n",
       "      <td>0</td>\n",
       "    </tr>\n",
       "    <tr>\n",
       "      <th>1</th>\n",
       "      <td>1</td>\n",
       "      <td>21.0</td>\n",
       "      <td>42.0</td>\n",
       "      <td>1.0</td>\n",
       "      <td>9.2</td>\n",
       "      <td>1</td>\n",
       "      <td>1.375000</td>\n",
       "      <td>5.0</td>\n",
       "      <td>1.0</td>\n",
       "      <td>0</td>\n",
       "    </tr>\n",
       "    <tr>\n",
       "      <th>2</th>\n",
       "      <td>1</td>\n",
       "      <td>21.0</td>\n",
       "      <td>NaN</td>\n",
       "      <td>1.0</td>\n",
       "      <td>8.8</td>\n",
       "      <td>1</td>\n",
       "      <td>1.500000</td>\n",
       "      <td>5.0</td>\n",
       "      <td>1.0</td>\n",
       "      <td>0</td>\n",
       "    </tr>\n",
       "    <tr>\n",
       "      <th>3</th>\n",
       "      <td>1</td>\n",
       "      <td>21.0</td>\n",
       "      <td>NaN</td>\n",
       "      <td>1.0</td>\n",
       "      <td>9.2</td>\n",
       "      <td>1</td>\n",
       "      <td>2.125000</td>\n",
       "      <td>5.0</td>\n",
       "      <td>1.0</td>\n",
       "      <td>0</td>\n",
       "    </tr>\n",
       "    <tr>\n",
       "      <th>4</th>\n",
       "      <td>1</td>\n",
       "      <td>21.0</td>\n",
       "      <td>NaN</td>\n",
       "      <td>1.0</td>\n",
       "      <td>8.0</td>\n",
       "      <td>1</td>\n",
       "      <td>1.375000</td>\n",
       "      <td>5.0</td>\n",
       "      <td>1.0</td>\n",
       "      <td>0</td>\n",
       "    </tr>\n",
       "  </tbody>\n",
       "</table>\n",
       "</div>"
      ],
      "text/plain": [
       "       age  weight1  history   HB  IFA       BP1  education  res  reslt\n",
       "0  1  26.0     37.0      1.0  5.9    1  1.444444        5.0  1.0      0\n",
       "1  1  21.0     42.0      1.0  9.2    1  1.375000        5.0  1.0      0\n",
       "2  1  21.0      NaN      1.0  8.8    1  1.500000        5.0  1.0      0\n",
       "3  1  21.0      NaN      1.0  9.2    1  2.125000        5.0  1.0      0\n",
       "4  1  21.0      NaN      1.0  8.0    1  1.375000        5.0  1.0      0"
      ]
     },
     "execution_count": 2,
     "metadata": {},
     "output_type": "execute_result"
    }
   ],
   "source": [
    "df=pd.read_csv(\"New.csv\")\n",
    "df.head()"
   ]
  },
  {
   "cell_type": "code",
   "execution_count": 3,
   "metadata": {},
   "outputs": [
    {
     "data": {
      "text/plain": [
       "              0\n",
       "age           7\n",
       "weight1      12\n",
       "history       4\n",
       "HB           19\n",
       "IFA           0\n",
       "BP1          15\n",
       "education     3\n",
       "res           2\n",
       "reslt         0\n",
       "dtype: int64"
      ]
     },
     "execution_count": 3,
     "metadata": {},
     "output_type": "execute_result"
    }
   ],
   "source": [
    "df.isnull().sum()"
   ]
  },
  {
   "cell_type": "code",
   "execution_count": 4,
   "metadata": {},
   "outputs": [],
   "source": [
    "df['age'].fillna((df['age'].mean()), inplace=True)\n",
    "df['weight1'].fillna((df['weight1'].mean()), inplace=True)\n",
    "df['HB'].fillna((df['HB'].mean()), inplace=True)\n",
    "df['BP1'].fillna((df['BP1'].mean()), inplace=True)\n",
    "df['education'].fillna((df['education'].median()), inplace=True)\n",
    "df['res'].fillna((df['res'].median()), inplace=True)\n",
    "df['history'].fillna((df['history'].median()), inplace=True)"
   ]
  },
  {
   "cell_type": "code",
   "execution_count": 5,
   "metadata": {},
   "outputs": [
    {
     "data": {
      "text/plain": [
       "               int64\n",
       "age            int32\n",
       "weight1      float64\n",
       "history      float64\n",
       "HB           float64\n",
       "IFA            int64\n",
       "BP1          float64\n",
       "education    float64\n",
       "res          float64\n",
       "reslt          int64\n",
       "dtype: object"
      ]
     },
     "execution_count": 5,
     "metadata": {},
     "output_type": "execute_result"
    }
   ],
   "source": [
    "df['age'] = df['age'].astype(int)\n",
    "#df1['age']\n",
    "df.dtypes"
   ]
  },
  {
   "cell_type": "code",
   "execution_count": 6,
   "metadata": {},
   "outputs": [
    {
     "data": {
      "text/plain": [
       "             0\n",
       "age          0\n",
       "weight1      0\n",
       "history      0\n",
       "HB           0\n",
       "IFA          0\n",
       "BP1          0\n",
       "education    0\n",
       "res          0\n",
       "reslt        0\n",
       "dtype: int64"
      ]
     },
     "execution_count": 6,
     "metadata": {},
     "output_type": "execute_result"
    }
   ],
   "source": [
    "df.isnull().sum()"
   ]
  },
  {
   "cell_type": "code",
   "execution_count": 7,
   "metadata": {},
   "outputs": [],
   "source": [
    "df.to_csv('mod.csv',header=False,index=False) "
   ]
  },
  {
   "cell_type": "markdown",
   "metadata": {},
   "source": [
    "# MODELS\n",
    "# K-Nearest Neighbours Algorithm"
   ]
  },
  {
   "cell_type": "code",
   "execution_count": 8,
   "metadata": {},
   "outputs": [],
   "source": [
    "import csv\n",
    "from random import random\n",
    "from operator import itemgetter\n",
    "from math import log\n",
    "from sklearn import metrics\n",
    "import matplotlib.pyplot as plt"
   ]
  },
  {
   "cell_type": "code",
   "execution_count": 9,
   "metadata": {},
   "outputs": [],
   "source": [
    "def distance_between(a, b, length):\n",
    "    distance = 0\n",
    "    for i in range(length):\n",
    "        distance += (float(a[i]) - float(b[i])) ** 2\n",
    "    return distance ** 0.5\n",
    " \n",
    "def locate_neighbours(train_set, test_instance, k):\n",
    "    distances = []\n",
    "    for i in range(len(train_set)):\n",
    "        distance = distance_between(test_instance, train_set[i], len(test_instance) - 1)\n",
    "        distances.append((train_set[i], distance))\n",
    "    distances.sort(key = itemgetter(1))\n",
    "    neighbours = []\n",
    "    for i in range(k):\n",
    "        neighbours.append(distances[i][0])\n",
    "    return neighbours\n",
    "\n",
    "def voting_result(neighbours):\n",
    "    class_votes = {}\n",
    "    for i in range(len(neighbours)):\n",
    "        if neighbours[i][-1] not in class_votes:\n",
    "            class_votes[neighbours[i][-1]] = 1\n",
    "        else:\n",
    "            class_votes[neighbours[i][-1]] += 1\n",
    "    return sorted(class_votes.items(), key = itemgetter(1), reverse = True)[0][0]\n",
    "\n",
    "def plot_error(error):\n",
    "        plt.suptitle('k value Error rate')\n",
    "        plt.xlabel('k'), plt.ylabel('Error')\n",
    "        plt.xticks([1,2,3,4,5,6,7,8,9,10])\n",
    "        plt.plot([1, 2, 3, 4, 5, 6, 7, 8, 9, 10], error)\n",
    "        plt.show()"
   ]
  },
  {
   "cell_type": "code",
   "execution_count": 10,
   "metadata": {},
   "outputs": [
    {
     "name": "stdout",
     "output_type": "stream",
     "text": [
      "Expected = 0.0 Prediction = 0.0 \n",
      "Expected = 0.0 Prediction = 0.0 \n",
      "Expected = 0.0 Prediction = 0.0 \n",
      "Expected = 0.0 Prediction = 0.0 \n",
      "Expected = 0.0 Prediction = 1.0 WRONG CLASSIFICATION\n",
      "Expected = 0.0 Prediction = 0.0 \n",
      "Expected = 0.0 Prediction = 0.0 \n",
      "Expected = 1.0 Prediction = 1.0 \n",
      "Expected = 1.0 Prediction = 1.0 \n",
      "Expected = 1.0 Prediction = 1.0 \n",
      "Expected = 1.0 Prediction = 1.0 \n",
      "Expected = 1.0 Prediction = 1.0 \n",
      "Expected = 1.0 Prediction = 1.0 \n",
      "Expected = 1.0 Prediction = 1.0 \n",
      "Expected = 1.0 Prediction = 1.0 \n",
      "Expected = 1.0 Prediction = 1.0 \n",
      "Expected = 1.0 Prediction = 1.0 \n",
      "Expected = 1.0 Prediction = 1.0 \n",
      "Expected = 1.0 Prediction = 1.0 \n",
      "Expected = 1.0 Prediction = 1.0 \n",
      "Expected = 1.0 Prediction = 1.0 \n",
      "Expected = 1.0 Prediction = 1.0 \n",
      "Expected = 1.0 Prediction = 1.0 \n",
      "Expected = 1.0 Prediction = 1.0 \n",
      "Expected = 1.0 Prediction = 1.0 \n",
      "Expected = 1.0 Prediction = 0.0 WRONG CLASSIFICATION\n",
      "Expected = 1.0 Prediction = 1.0 \n",
      "Expected = 1.0 Prediction = 1.0 \n",
      "Expected = 1.0 Prediction = 1.0 \n",
      "Expected = 1.0 Prediction = 1.0 \n",
      "Accuracy = 93.33333333333333 %\n"
     ]
    }
   ],
   "source": [
    "dataset_file = open('mod.csv', 'rt')\n",
    "dataset = list(csv.reader(dataset_file))\n",
    "k, split = 4, 0.6\n",
    "#for k in range(1, 11):\n",
    "#predictions, train_set, test_set = [], [], []\n",
    "#error =[]\n",
    "predictions, train_set, test_set = [], [], [] \n",
    "for i in range(len(dataset) - 1):\n",
    "    for y in range(len(dataset[0])):\n",
    "        dataset[i][y] = float(dataset[i][y])\n",
    "    if random() < split:\n",
    "        train_set.append(dataset[i])\n",
    "    else:\n",
    "        test_set.append(dataset[i])\n",
    "for i in range(len(test_set)):\n",
    "    k_nearest_neighbours = locate_neighbours(train_set, test_set[i], k)\n",
    "    predictions.append(voting_result(k_nearest_neighbours))\n",
    "    mismatch = 'WRONG CLASSIFICATION' if test_set[i][-1] != predictions[-1] else ''\n",
    "    print('Expected =',test_set[i][-1],'Prediction =',predictions[-1],mismatch)      \n",
    "\n",
    "accurate = 0\n",
    "for i in range(len(test_set)):\n",
    "    accurate += test_set[i][-1] == predictions[i]\n",
    "#error.append(1 - accurate/len(test_set))\n",
    "#plot_error(error)\n",
    "global acc\n",
    "acc=accurate/len(test_set)*100\n",
    "print('Accuracy =',acc,'%')"
   ]
  },
  {
   "cell_type": "markdown",
   "metadata": {},
   "source": [
    "# AdaBoost Algorithm"
   ]
  },
  {
   "cell_type": "code",
   "execution_count": 11,
   "metadata": {},
   "outputs": [],
   "source": [
    "class AdaBoost:\n",
    "    def __init__(self, iterations):\n",
    "        self.train_df = None\n",
    "        self.test_df = None\n",
    "        self.train_labels = None\n",
    "        self.test_labels = None\n",
    "        self.train_predictions = None\n",
    "        self.test_predictions = None\n",
    "        self.thresholds_dict = None #\n",
    "        self.train_hx_dict = None\n",
    "        self.columnname = None\n",
    "        self.colsplitvalue = None\n",
    "        self.epsilon = None\n",
    "        self.alpha = None\n",
    "        self.D = None\n",
    "        self.trueClass = None\n",
    "        self.falseClass = None\n",
    "        self.train_H = None\n",
    "        self.test_H = None\n",
    "        self.tr_err = None\n",
    "        self.te_err = None\n",
    "        self.rd_err = None\n",
    "        self.fpr = None\n",
    "        self.tpr = None\n",
    "        self.iterations = iterations\n",
    "\n",
    "    def adaboost(self, train_X, train_y, test_X, test_y):\n",
    "        self.train_df = train_X\n",
    "        self.test_df = test_X\n",
    "        self.train_labels = train_y[0].values\n",
    "        self.test_labels = test_y[0].values\n",
    "        self.train_H = np.zeros(shape = [1, len(train_X)], dtype = float)\n",
    "        self.test_H = np.zeros(shape = [1, len(test_X)], dtype = float)\n",
    "        self.initializeWeights(self.train_df)\n",
    "        self.calculate_thresholds()\n",
    "        self.calculate_hx()\n",
    "        self.tr_err = []\n",
    "        self.te_err = []\n",
    "        self.rd_err = []\n",
    "        for i in range(0, self.iterations):\n",
    "            self.best_decision_stump()\n",
    "            train_err = self.calculate_error(self.train_labels, self.train_H[0])\n",
    "            test_err = self.calculate_error(self.test_labels, self.test_H[0])\n",
    "            self.tr_err.append(train_err)\n",
    "            self.te_err.append(test_err)\n",
    "            self.rd_err.append(self.epsilon)\n",
    "            self.fpr, self.tpr, thresholds = metrics.roc_curve(self.train_labels, self.train_H[0])\n",
    "            auc = np.trapz(self.tpr, self.fpr)\n",
    "            #print(\"Round:\", i+1, \"Train_err:\", train_err, \"Test_err:\", test_err, \"AUC:\", auc)\n",
    "            self.updateWeights()\n",
    "        global acc1\n",
    "        acc1 = (1-test_err)*100\n",
    "        print('Accuracy =',acc1,'%')\n",
    "\n",
    "    def initializeWeights(self, train):\n",
    "        self.D = np.ones(shape = [1,len(train)], dtype = float)*1/len(train)\n",
    "\n",
    "    def updateWeights(self):\n",
    "        D_old = self.D\n",
    "        alpha = self.alpha\n",
    "        labels = self.train_labels\n",
    "        predictions = [self.train_predictions]\n",
    "        D_new = D_old * np.exp(-alpha * labels * predictions)\n",
    "        Z = np.sum(D_new)\n",
    "        D_norm = D_new / Z\n",
    "        self.D = D_norm\n",
    "\n",
    "    def calculate_thresholds(self):\n",
    "        df = self.train_df\n",
    "        thresholds = dict()\n",
    "        for column in range(self.train_df.shape[1]):\n",
    "            values = df[column].values.tolist()\n",
    "            values.sort()\n",
    "            uniq_values = list(set(values))\n",
    "            tmp_thresholds = []\n",
    "            for i in range(len(uniq_values)-1):\n",
    "                if i%50 == 0:\n",
    "                    tmp_thresholds.append((uniq_values[i]+uniq_values[i+1])/2)\n",
    "            thresholds[column] = tmp_thresholds\n",
    "        self.thresholds_dict = thresholds\n",
    "\n",
    "    def calculate_hx(self):\n",
    "        df = self.train_df\n",
    "        thresholds_dict = self.thresholds_dict\n",
    "        train_hx = dict()        \n",
    "        for column in thresholds_dict:\n",
    "            threshold = thresholds_dict[column]\n",
    "            temp = []\n",
    "            for val in threshold:\n",
    "                temp_df = df.loc[df[column]<val]\n",
    "                pr = [1, -1]            \n",
    "                if temp_df.loc[temp_df[0] == -1].count()[0] > temp_df.loc[temp_df[0] == 1].count()[0]:\n",
    "                    pr.reverse()\n",
    "                prediction = self.predict(df, column, val, pr)\n",
    "                temp.append([val, pr, prediction])                \n",
    "            train_hx[column] = temp\n",
    "        self.train_hx_dict = train_hx\n",
    "\n",
    "    def best_decision_stump(self):\n",
    "        train_hx_dict = self.train_hx_dict\n",
    "        bestepsilon = 0\n",
    "        maxdiff = 0\n",
    "        for column in train_hx_dict:\n",
    "            threshold = train_hx_dict[column]\n",
    "            for val in threshold:\n",
    "                epsilon = self.calculate_epsilon(self.D[0], self.train_labels, val[2])\n",
    "                diff = abs(0.5 - epsilon)\n",
    "                if diff > maxdiff:\n",
    "                    maxdiff = diff\n",
    "                    bestepsilon = epsilon\n",
    "                    splitval = val[0]\n",
    "                    splitcolumn = column\n",
    "                    bestpred = val[2]\n",
    "                    bestpr = val[1]\n",
    "        self.columnname = splitcolumn\n",
    "        self.colsplitvalue = splitval\n",
    "        self.epsilon = bestepsilon\n",
    "        self.alpha = log((1-bestepsilon)/bestepsilon)/2\n",
    "        self.train_predictions = bestpred\n",
    "        self.test_predictions = self.predict(self.test_df, self.columnname, self.colsplitvalue, bestpr)\n",
    "        self.trueClass = bestpr[0]\n",
    "        self.falseClass = bestpr[1]\n",
    "        self.train_H = self.train_H + self.calculate_Hx(self.alpha, self.train_predictions)\n",
    "        self.test_H = self.test_H + self.calculate_Hx(self.alpha, self.test_predictions)\n",
    "\n",
    "    def predict(self, df, columnname, colsplitvalue, pr):\n",
    "        prediction = []        \n",
    "        for i in range(len(df)):\n",
    "            prediction.append(pr[df.iloc[[i]][columnname].values[0] >= colsplitvalue])\n",
    "        return prediction\n",
    "\n",
    "    def calculate_epsilon(self, D, actual, predictions):\n",
    "        epsilon = 0\n",
    "        for i in range(len(actual)):\n",
    "            if actual[i] != predictions[i]:\n",
    "                epsilon += D[i]\n",
    "        return epsilon\n",
    "\n",
    "    def calculate_error(self, actual, predictions):\n",
    "        matches = 0\n",
    "        for i in range(len(actual)):\n",
    "                matches += (actual[i] > 0 and predictions[i] > 0) or (actual[i] < 0 and predictions[i] < 0)\n",
    "        return (1 - matches/len(actual))\n",
    "\n",
    "    def calculate_Hx(self, alpha, predictions):\n",
    "        return alpha * np.array(predictions)\n",
    "\n",
    "    def plot_train_test_error(self):\n",
    "        plt.suptitle('Train/Test Error')\n",
    "        plt.xlabel('Iteration Step'), plt.ylabel('Train/Test Error (Blue/Red)')\n",
    "        plt.xlim(0, self.iterations), plt.ylim(0.10,.40)\n",
    "        x = list(range(0, self.iterations))\n",
    "        plt.plot(x, self.tr_err, color = \"blue\")\n",
    "        plt.plot(x, self.te_err, color = \"red\")\n",
    "        plt.show()\n",
    "\n",
    "    def plot_ROC_curve(self):\n",
    "        plt.suptitle('ROC Curve')\n",
    "        plt.xlabel('Iteration Step'), plt.ylabel('AUC')\n",
    "        plt.plot(self.fpr, self.tpr, color = \"red\")\n",
    "        plt.show()\n",
    "\n",
    "    def plot_round_error(self):\n",
    "        plt.suptitle('Round Error')\n",
    "        plt.xlabel('Iteration Step'), plt.ylabel('Round Error')\n",
    "        plt.xlim(0, self.iterations), plt.ylim(0.2,.8)\n",
    "        plt.plot(list(range(0, self.iterations)), self.rd_err, color = \"red\")\n",
    "        plt.show()"
   ]
  },
  {
   "cell_type": "code",
   "execution_count": 12,
   "metadata": {},
   "outputs": [
    {
     "name": "stderr",
     "output_type": "stream",
     "text": [
      "C:\\Apps\\anaconda\\envs\\tensorflow\\lib\\site-packages\\ipykernel_launcher.py:129: DeprecationWarning: In future, it will be an error for 'np.bool_' scalars to be interpreted as an index\n"
     ]
    },
    {
     "name": "stdout",
     "output_type": "stream",
     "text": [
      "Accuracy = 76.19047619047619 %\n"
     ]
    },
    {
     "data": {
      "image/png": "[encoded data removed]",
      "text/plain": [
       "<Figure size 432x288 with 1 Axes>"
      ]
     },
     "metadata": {
      "needs_background": "light"
     },
     "output_type": "display_data"
    },
    {
     "data": {
      "image/png": "[encoded data removed]",
      "text/plain": [
       "<Figure size 432x288 with 1 Axes>"
      ]
     },
     "metadata": {
      "needs_background": "light"
     },
     "output_type": "display_data"
    },
    {
     "data": {
      "image/png": "[encoded data removed]",
      "text/plain": [
       "<Figure size 432x288 with 1 Axes>"
      ]
     },
     "metadata": {
      "needs_background": "light"
     },
     "output_type": "display_data"
    }
   ],
   "source": [
    "df = pd.read_csv('mod.csv', header = None)\n",
    "n = df.shape[1] - 1\n",
    "updlabel = df[n].values\n",
    "for i in range(len(updlabel)):\n",
    "    if updlabel[i] == 0:\n",
    "        updlabel[i] = -1\n",
    "df[n] = updlabel\n",
    "train_X = pd.DataFrame()\n",
    "train_y = pd.DataFrame()\n",
    "test_X = pd.DataFrame()\n",
    "test_y = pd.DataFrame()\n",
    "for i in range(len(df)):\n",
    "    if i%5 != 0:\n",
    "        train_X = pd.concat([train_X, df.iloc[[i]]])\n",
    "        train_y = pd.concat([train_y, df.iloc[[i]][n]])\n",
    "    else:\n",
    "        test_X = pd.concat([test_X, df.iloc[[i]]])\n",
    "        test_y = pd.concat([test_y, df.iloc[[i]][n]])\n",
    "del train_X[n]\n",
    "del test_X[n]\n",
    "model = AdaBoost(20)\n",
    "model.adaboost(train_X, train_y, test_X, test_y)\n",
    "model.plot_train_test_error()\n",
    "model.plot_ROC_curve()\n",
    "model.plot_round_error()"
   ]
  },
  {
   "cell_type": "markdown",
   "metadata": {},
   "source": [
    "# Comparing the two models :-"
   ]
  },
  {
   "cell_type": "code",
   "execution_count": 13,
   "metadata": {},
   "outputs": [
    {
     "name": "stdout",
     "output_type": "stream",
     "text": [
      "Accuracy of KNN = 93.33333333333333 %\n",
      "Accuracy of AdaBoost = 76.19047619047619 %\n"
     ]
    }
   ],
   "source": [
    "print('Accuracy of KNN =',acc,'%')\n",
    "print('Accuracy of AdaBoost =',acc1,'%')"
   ]
  },
  {
   "cell_type": "raw",
   "metadata": {},
   "source": [
    "So KNN is more suitable model for this dataset as it is giving more accurate results than AdaBoost"
   ]
  }
 ],
 "metadata": {
  "kernelspec": {
   "display_name": "Python 3",
   "language": "python",
   "name": "python3"
  },
  "language_info": {
   "codemirror_mode": {
    "name": "ipython",
    "version": 3
   },
   "file_extension": ".py",
   "mimetype": "text/x-python",
   "name": "python",
   "nbconvert_exporter": "python",
   "pygments_lexer": "ipython3",
   "version": "3.5.6"
  }
 },
 "nbformat": 4,
 "nbformat_minor": 2
}
